{
 "cells": [
  {
   "cell_type": "code",
   "execution_count": 1,
   "id": "1967d1f5-0369-4989-a13c-05cbe4706f26",
   "metadata": {},
   "outputs": [
    {
     "name": "stderr",
     "output_type": "stream",
     "text": [
      "\n",
      "Attaching package: ‘dplyr’\n",
      "\n",
      "\n",
      "The following objects are masked from ‘package:stats’:\n",
      "\n",
      "    filter, lag\n",
      "\n",
      "\n",
      "The following objects are masked from ‘package:base’:\n",
      "\n",
      "    intersect, setdiff, setequal, union\n",
      "\n",
      "\n",
      "── \u001b[1mAttaching core tidyverse packages\u001b[22m ──────────────────────────────────────────────────────────────────────────────────────────────────────────────────────────────────────────────────── tidyverse 2.0.0 ──\n",
      "\u001b[32m✔\u001b[39m \u001b[34mforcats  \u001b[39m 1.0.0     \u001b[32m✔\u001b[39m \u001b[34mreadr    \u001b[39m 2.1.5\n",
      "\u001b[32m✔\u001b[39m \u001b[34mggplot2  \u001b[39m 3.5.1     \u001b[32m✔\u001b[39m \u001b[34mstringr  \u001b[39m 1.5.1\n",
      "\u001b[32m✔\u001b[39m \u001b[34mlubridate\u001b[39m 1.9.3     \u001b[32m✔\u001b[39m \u001b[34mtibble   \u001b[39m 3.2.1\n",
      "\u001b[32m✔\u001b[39m \u001b[34mpurrr    \u001b[39m 1.0.2     \u001b[32m✔\u001b[39m \u001b[34mtidyr    \u001b[39m 1.3.1\n",
      "── \u001b[1mConflicts\u001b[22m ────────────────────────────────────────────────────────────────────────────────────────────────────────────────────────────────────────────────────────────────────── tidyverse_conflicts() ──\n",
      "\u001b[31m✖\u001b[39m \u001b[34mdplyr\u001b[39m::\u001b[32mfilter()\u001b[39m masks \u001b[34mstats\u001b[39m::filter()\n",
      "\u001b[31m✖\u001b[39m \u001b[34mdplyr\u001b[39m::\u001b[32mlag()\u001b[39m    masks \u001b[34mstats\u001b[39m::lag()\n",
      "\u001b[36mℹ\u001b[39m Use the conflicted package (\u001b[3m\u001b[34m<http://conflicted.r-lib.org/>\u001b[39m\u001b[23m) to force all conflicts to become errors\n",
      "\n",
      "Attaching package: ‘reshape2’\n",
      "\n",
      "\n",
      "The following object is masked from ‘package:tidyr’:\n",
      "\n",
      "    smiths\n",
      "\n",
      "\n"
     ]
    }
   ],
   "source": [
    "library (dplyr)\n",
    "library (tidyverse)\n",
    "library (reshape2)"
   ]
  },
  {
   "cell_type": "code",
   "execution_count": 2,
   "id": "1ddf53cf-4176-41aa-bbe8-edc603e83ef6",
   "metadata": {},
   "outputs": [
    {
     "data": {
      "text/html": [
       "<table class=\"dataframe\">\n",
       "<caption>A data.frame: 6 × 8</caption>\n",
       "<thead>\n",
       "\t<tr><th></th><th scope=col>line_morphogen</th><th scope=col>medium</th><th scope=col>cell_line</th><th scope=col>fullname_v5</th><th scope=col>morphogen_full</th><th scope=col>medium_morphogen</th><th scope=col>Control</th><th scope=col>Ctrl_short</th></tr>\n",
       "\t<tr><th></th><th scope=col>&lt;chr&gt;</th><th scope=col>&lt;chr&gt;</th><th scope=col>&lt;chr&gt;</th><th scope=col>&lt;chr&gt;</th><th scope=col>&lt;chr&gt;</th><th scope=col>&lt;chr&gt;</th><th scope=col>&lt;chr&gt;</th><th scope=col>&lt;chr&gt;</th></tr>\n",
       "</thead>\n",
       "<tbody>\n",
       "\t<tr><th scope=row>1</th><td>H1_Ctrl_NIM </td><td>NIM</td><td>H1</td><td>Telencephalic Progenitors</td><td>Ctrl </td><td>Ctrl_NIM </td><td>H1_Ctrl_NIM</td><td>Ctrl_NIM</td></tr>\n",
       "\t<tr><th scope=row>2</th><td>H9_Ctrl_NIM </td><td>NIM</td><td>H9</td><td>Telencephalic Progenitors</td><td>Ctrl </td><td>Ctrl_NIM </td><td>H9_Ctrl_NIM</td><td>Ctrl_NIM</td></tr>\n",
       "\t<tr><th scope=row>3</th><td>H1_SHH_A_NIM</td><td>NIM</td><td>H1</td><td>Telencephalic Progenitors</td><td>SHH_A</td><td>SHH_A_NIM</td><td>H1_Ctrl_NIM</td><td>Ctrl_NIM</td></tr>\n",
       "\t<tr><th scope=row>4</th><td>H9_SHH_A_NIM</td><td>NIM</td><td>H9</td><td>Telencephalic Progenitors</td><td>SHH_A</td><td>SHH_A_NIM</td><td>H9_Ctrl_NIM</td><td>Ctrl_NIM</td></tr>\n",
       "\t<tr><th scope=row>5</th><td>H9_SHH_E_NIM</td><td>NIM</td><td>H9</td><td>CNS Neurons              </td><td>SHH_E</td><td>SHH_E_NIM</td><td>H9_Ctrl_NIM</td><td>Ctrl_NIM</td></tr>\n",
       "\t<tr><th scope=row>6</th><td>H1_SHH_E_NIM</td><td>NIM</td><td>H1</td><td>Hypothalamic Progenitors </td><td>SHH_E</td><td>SHH_E_NIM</td><td>H1_Ctrl_NIM</td><td>Ctrl_NIM</td></tr>\n",
       "</tbody>\n",
       "</table>\n"
      ],
      "text/latex": [
       "A data.frame: 6 × 8\n",
       "\\begin{tabular}{r|llllllll}\n",
       "  & line\\_morphogen & medium & cell\\_line & fullname\\_v5 & morphogen\\_full & medium\\_morphogen & Control & Ctrl\\_short\\\\\n",
       "  & <chr> & <chr> & <chr> & <chr> & <chr> & <chr> & <chr> & <chr>\\\\\n",
       "\\hline\n",
       "\t1 & H1\\_Ctrl\\_NIM  & NIM & H1 & Telencephalic Progenitors & Ctrl  & Ctrl\\_NIM  & H1\\_Ctrl\\_NIM & Ctrl\\_NIM\\\\\n",
       "\t2 & H9\\_Ctrl\\_NIM  & NIM & H9 & Telencephalic Progenitors & Ctrl  & Ctrl\\_NIM  & H9\\_Ctrl\\_NIM & Ctrl\\_NIM\\\\\n",
       "\t3 & H1\\_SHH\\_A\\_NIM & NIM & H1 & Telencephalic Progenitors & SHH\\_A & SHH\\_A\\_NIM & H1\\_Ctrl\\_NIM & Ctrl\\_NIM\\\\\n",
       "\t4 & H9\\_SHH\\_A\\_NIM & NIM & H9 & Telencephalic Progenitors & SHH\\_A & SHH\\_A\\_NIM & H9\\_Ctrl\\_NIM & Ctrl\\_NIM\\\\\n",
       "\t5 & H9\\_SHH\\_E\\_NIM & NIM & H9 & CNS Neurons               & SHH\\_E & SHH\\_E\\_NIM & H9\\_Ctrl\\_NIM & Ctrl\\_NIM\\\\\n",
       "\t6 & H1\\_SHH\\_E\\_NIM & NIM & H1 & Hypothalamic Progenitors  & SHH\\_E & SHH\\_E\\_NIM & H1\\_Ctrl\\_NIM & Ctrl\\_NIM\\\\\n",
       "\\end{tabular}\n"
      ],
      "text/markdown": [
       "\n",
       "A data.frame: 6 × 8\n",
       "\n",
       "| <!--/--> | line_morphogen &lt;chr&gt; | medium &lt;chr&gt; | cell_line &lt;chr&gt; | fullname_v5 &lt;chr&gt; | morphogen_full &lt;chr&gt; | medium_morphogen &lt;chr&gt; | Control &lt;chr&gt; | Ctrl_short &lt;chr&gt; |\n",
       "|---|---|---|---|---|---|---|---|---|\n",
       "| 1 | H1_Ctrl_NIM  | NIM | H1 | Telencephalic Progenitors | Ctrl  | Ctrl_NIM  | H1_Ctrl_NIM | Ctrl_NIM |\n",
       "| 2 | H9_Ctrl_NIM  | NIM | H9 | Telencephalic Progenitors | Ctrl  | Ctrl_NIM  | H9_Ctrl_NIM | Ctrl_NIM |\n",
       "| 3 | H1_SHH_A_NIM | NIM | H1 | Telencephalic Progenitors | SHH_A | SHH_A_NIM | H1_Ctrl_NIM | Ctrl_NIM |\n",
       "| 4 | H9_SHH_A_NIM | NIM | H9 | Telencephalic Progenitors | SHH_A | SHH_A_NIM | H9_Ctrl_NIM | Ctrl_NIM |\n",
       "| 5 | H9_SHH_E_NIM | NIM | H9 | CNS Neurons               | SHH_E | SHH_E_NIM | H9_Ctrl_NIM | Ctrl_NIM |\n",
       "| 6 | H1_SHH_E_NIM | NIM | H1 | Hypothalamic Progenitors  | SHH_E | SHH_E_NIM | H1_Ctrl_NIM | Ctrl_NIM |\n",
       "\n"
      ],
      "text/plain": [
       "  line_morphogen medium cell_line fullname_v5               morphogen_full\n",
       "1 H1_Ctrl_NIM    NIM    H1        Telencephalic Progenitors Ctrl          \n",
       "2 H9_Ctrl_NIM    NIM    H9        Telencephalic Progenitors Ctrl          \n",
       "3 H1_SHH_A_NIM   NIM    H1        Telencephalic Progenitors SHH_A         \n",
       "4 H9_SHH_A_NIM   NIM    H9        Telencephalic Progenitors SHH_A         \n",
       "5 H9_SHH_E_NIM   NIM    H9        CNS Neurons               SHH_E         \n",
       "6 H1_SHH_E_NIM   NIM    H1        Hypothalamic Progenitors  SHH_E         \n",
       "  medium_morphogen Control     Ctrl_short\n",
       "1 Ctrl_NIM         H1_Ctrl_NIM Ctrl_NIM  \n",
       "2 Ctrl_NIM         H9_Ctrl_NIM Ctrl_NIM  \n",
       "3 SHH_A_NIM        H1_Ctrl_NIM Ctrl_NIM  \n",
       "4 SHH_A_NIM        H9_Ctrl_NIM Ctrl_NIM  \n",
       "5 SHH_E_NIM        H9_Ctrl_NIM Ctrl_NIM  \n",
       "6 SHH_E_NIM        H1_Ctrl_NIM Ctrl_NIM  "
      ]
     },
     "metadata": {},
     "output_type": "display_data"
    }
   ],
   "source": [
    "\n",
    "path_data = ''\n",
    "\n",
    "data <- read.delim(paste0(path_data, 'meta_for_enrichment.tsv'), header = TRUE)\n",
    "Ref <- read.delim(paste0(path_data, 'control_for_enrichment.tsv'), header = TRUE)\n",
    "head(Ref)\n"
   ]
  },
  {
   "cell_type": "code",
   "execution_count": 3,
   "id": "f91c0f06-0512-47a5-baa5-acb4a6e57da2",
   "metadata": {},
   "outputs": [
    {
     "name": "stderr",
     "output_type": "stream",
     "text": [
      "Warning message:\n",
      "“\u001b[1m\u001b[22mUsing an external vector in selections was deprecated in tidyselect 1.1.0.\n",
      "\u001b[36mℹ\u001b[39m Please use `all_of()` or `any_of()` instead.\n",
      "  # Was:\n",
      "  data %>% select(Condition)\n",
      "\n",
      "  # Now:\n",
      "  data %>% select(all_of(Condition))\n",
      "\n",
      "See <https://tidyselect.r-lib.org/reference/faq-external-vector.html>.”\n",
      "Warning message:\n",
      "“\u001b[1m\u001b[22mUsing an external vector in selections was deprecated in tidyselect 1.1.0.\n",
      "\u001b[36mℹ\u001b[39m Please use `all_of()` or `any_of()` instead.\n",
      "  # Was:\n",
      "  data %>% select(Ctrl_short)\n",
      "\n",
      "  # Now:\n",
      "  data %>% select(all_of(Ctrl_short))\n",
      "\n",
      "See <https://tidyselect.r-lib.org/reference/faq-external-vector.html>.”\n"
     ]
    }
   ],
   "source": [
    "enrichment <- Reduce (rbind, \n",
    "                      pbapply::pblapply (which (Ref$line_morphogen != Ref$Control), function(x){          # pblapply is like lapply (apply and give list as output) but gives you a progress bar\n",
    "  \n",
    "  Experiment <- Ref$line_morphogen[x]        # Set \"Experiment\", \"Control\", \"Condition\" and \"Cell_Line\" \n",
    "  Control <- Ref$Control[x]              # from the values in the current row of the reference table\n",
    "  Condition <- Ref$medium_morphogen[x]          \n",
    "  Cell_Line <- Ref$cell_line[x]          # IF THIS LINE IS ACTIVE, WE ARE CALCULATING ENRICHMENT SEPARATELY FOR EACH LINE\n",
    "  Ctrl_short <- Ref$Ctrl_short[x]   \n",
    "  #print(Ctrl_short)\n",
    "  # Here we select the rows from OSMGT that correspond to the current condition\n",
    "  Idx <- which (data$line_morphogen == Experiment| data$line_morphogen == Control)\n",
    "  \n",
    "  \n",
    "  # Here we create a frequency table for the number of cells in each cluster per Condition and corresponding Control\n",
    "  freq <- table (data$fullname_v5[Idx], data$medium_morphogen[Idx]) %>%\n",
    "    as.data.frame() %>%\n",
    "    spread (Var2, Freq) %>%\n",
    "    select (Condition, Ctrl_short, \"Var1\")\n",
    "  \n",
    "  # Here we use Reduce to rbind all the iterations of lapply by cluster (there is one fisher test per cluster in each Condition)\n",
    "  res <- Reduce (rbind, lapply (1:nrow(freq), function(i) {\n",
    "    # Generating one matrix per cluster (row)\n",
    "    mat <- matrix (c (freq[i,1], \n",
    "                      freq[i,2], \n",
    "                      colSums (freq[,-3]) - c(freq[i,1],freq[i,2])), # This is a vector that gives 2 columns in the matrix\n",
    "                   c(2,2))                                           # This sets the format of the matrix to 2x2\n",
    "    # Running the Fisher test on the 2x2 matrix containing the number of cells in and out of each condition to compare (Condition vs Control)\n",
    "    test <- fisher.test(mat)\n",
    "    # Create a dataframe with all information about the Condition and cluster tested\n",
    "    res <- data.frame (Experiment = Experiment,\n",
    "                       Control = Control,\n",
    "                       Condition = Condition,\n",
    "                       Line = Cell_Line,\n",
    "                       Cluster = freq$Var1[i],\n",
    "                       oddsratio = unname(test$estimate),       # The unname function removes the name of the test estimate\n",
    "                       pval = unname(test$p.value))\n",
    "  }))\n",
    "  # Now we return the Fisher results by Condition \n",
    "  # Each of these dataframes will be subject to rbind at the top of the function to generate a dataframe for all Conditions and clusters\n",
    "  return(res)\n",
    "}))\n"
   ]
  },
  {
   "cell_type": "code",
   "execution_count": 5,
   "id": "602d273a-5b97-439a-a91d-5d62ff6cd78b",
   "metadata": {},
   "outputs": [
    {
     "data": {
      "image/png": "[encoded data removed]",
      "text/plain": [
       "Plot with title “Histogram of enrichment$score”"
      ]
     },
     "metadata": {
      "image/png": {
       "height": 420,
       "width": 420
      }
     },
     "output_type": "display_data"
    }
   ],
   "source": [
    "enrichment$padj <- p.adjust (enrichment$pval, method = \"BH\")\n",
    "\n",
    "# Calculating LOG-ODDS-RATIO, a score that blends the p-value and odds ratio information\n",
    "enrichment$score <- ifelse (enrichment$padj < 0.01,       # Condition to test (if adjusted p-value is lower than 0.01)\n",
    "                            log2 (enrichment$oddsratio),  # YES --> calculate the log odds ratio (negative if odds ratio is smaller than 1, meaning there's less cells than in control)\n",
    "                            0)                            # NO --> set it to 0 (no enrichment nor depletion)\n",
    "\n",
    "# When the score's absolute value is bigger than the cap value, set it to the cap value with the sign of the score \n",
    "# The sign function returns 1 for + values and -1 for - values\n",
    "# First of all we set a number as maximum score to be displayed\n",
    "cap <- 5\n",
    "enrichment$score [abs(enrichment$score) > cap] <- sign (enrichment$score [abs(enrichment$score) > cap]) * cap \n",
    "hist (enrichment$score)"
   ]
  },
  {
   "cell_type": "markdown",
   "id": "46520e66-3d14-4d18-bc03-3507dbb86a6e",
   "metadata": {
    "scrolled": true
   },
   "source": [
    "# Plot with ggalign ED Fig. 9b"
   ]
  },
  {
   "cell_type": "code",
   "execution_count": 16,
   "id": "566320b1-affb-4b7c-9c48-7db7a97e4521",
   "metadata": {},
   "outputs": [],
   "source": [
    "cols_grad <- c(\"#4D0066\", \"#64207A\", \"#7A408D\", \"#9060A0\", \"#A780B3\", \"#BDA0C6\", \"#D6C4DC\", \"#E3D6E7\", \"#F1EBF3\", # Purple (depletion)\n",
    "               \"#EEEEEE\",\n",
    "               \"#FFEEE0\", \"#FFDDC0\", \"#FFCCA0\", \"#FFBB80\", \"#FFAA60\", \"#FF9940\", \"#FF8820\", \"#FA7D10\", \"#F57200\")"
   ]
  },
  {
   "cell_type": "code",
   "execution_count": null,
   "id": "fb368c9b-d866-4e61-9273-3bf59692d319",
   "metadata": {},
   "outputs": [],
   "source": []
  },
  {
   "cell_type": "code",
   "execution_count": 27,
   "id": "287d8ec3-a36a-42ed-b94b-a9da91a30f15",
   "metadata": {},
   "outputs": [
    {
     "data": {
      "text/html": [
       "<style>\n",
       ".list-inline {list-style: none; margin:0; padding: 0}\n",
       ".list-inline>li {display: inline-block}\n",
       ".list-inline>li:not(:last-child)::after {content: \"\\00b7\"; padding: 0 .5ex}\n",
       "</style>\n",
       "<ol class=list-inline><li>'SHH_A_NIM'</li><li>'SHH_E_NIM'</li><li>'RA_A_NIM'</li><li>'RA_E_NIM'</li><li>'CHIR_A_NIM'</li><li>'CHIR_E_NIM'</li><li>'FGF8_late_A_NIM'</li><li>'FGF8_late_E_NIM'</li><li>'CHIR_tA_NIM'</li><li>'CHIR_tC_NIM'</li><li>'CHIR_tE_NIM'</li><li>'SHH_A_NPM'</li><li>'SHH_E_NPM'</li><li>'RA_A_NPM'</li><li>'RA_E_NPM'</li><li>'CHIR_A_NPM'</li><li>'CHIR_E_NPM'</li><li>'FGF8_late_A_NPM'</li><li>'FGF8_late_E_NPM'</li><li>'CHIR_tA_NPM'</li><li>'CHIR_tC_NPM'</li><li>'CHIR_tE_NPM'</li></ol>\n"
      ],
      "text/latex": [
       "\\begin{enumerate*}\n",
       "\\item 'SHH\\_A\\_NIM'\n",
       "\\item 'SHH\\_E\\_NIM'\n",
       "\\item 'RA\\_A\\_NIM'\n",
       "\\item 'RA\\_E\\_NIM'\n",
       "\\item 'CHIR\\_A\\_NIM'\n",
       "\\item 'CHIR\\_E\\_NIM'\n",
       "\\item 'FGF8\\_late\\_A\\_NIM'\n",
       "\\item 'FGF8\\_late\\_E\\_NIM'\n",
       "\\item 'CHIR\\_tA\\_NIM'\n",
       "\\item 'CHIR\\_tC\\_NIM'\n",
       "\\item 'CHIR\\_tE\\_NIM'\n",
       "\\item 'SHH\\_A\\_NPM'\n",
       "\\item 'SHH\\_E\\_NPM'\n",
       "\\item 'RA\\_A\\_NPM'\n",
       "\\item 'RA\\_E\\_NPM'\n",
       "\\item 'CHIR\\_A\\_NPM'\n",
       "\\item 'CHIR\\_E\\_NPM'\n",
       "\\item 'FGF8\\_late\\_A\\_NPM'\n",
       "\\item 'FGF8\\_late\\_E\\_NPM'\n",
       "\\item 'CHIR\\_tA\\_NPM'\n",
       "\\item 'CHIR\\_tC\\_NPM'\n",
       "\\item 'CHIR\\_tE\\_NPM'\n",
       "\\end{enumerate*}\n"
      ],
      "text/markdown": [
       "1. 'SHH_A_NIM'\n",
       "2. 'SHH_E_NIM'\n",
       "3. 'RA_A_NIM'\n",
       "4. 'RA_E_NIM'\n",
       "5. 'CHIR_A_NIM'\n",
       "6. 'CHIR_E_NIM'\n",
       "7. 'FGF8_late_A_NIM'\n",
       "8. 'FGF8_late_E_NIM'\n",
       "9. 'CHIR_tA_NIM'\n",
       "10. 'CHIR_tC_NIM'\n",
       "11. 'CHIR_tE_NIM'\n",
       "12. 'SHH_A_NPM'\n",
       "13. 'SHH_E_NPM'\n",
       "14. 'RA_A_NPM'\n",
       "15. 'RA_E_NPM'\n",
       "16. 'CHIR_A_NPM'\n",
       "17. 'CHIR_E_NPM'\n",
       "18. 'FGF8_late_A_NPM'\n",
       "19. 'FGF8_late_E_NPM'\n",
       "20. 'CHIR_tA_NPM'\n",
       "21. 'CHIR_tC_NPM'\n",
       "22. 'CHIR_tE_NPM'\n",
       "\n",
       "\n"
      ],
      "text/plain": [
       " [1] \"SHH_A_NIM\"       \"SHH_E_NIM\"       \"RA_A_NIM\"        \"RA_E_NIM\"       \n",
       " [5] \"CHIR_A_NIM\"      \"CHIR_E_NIM\"      \"FGF8_late_A_NIM\" \"FGF8_late_E_NIM\"\n",
       " [9] \"CHIR_tA_NIM\"     \"CHIR_tC_NIM\"     \"CHIR_tE_NIM\"     \"SHH_A_NPM\"      \n",
       "[13] \"SHH_E_NPM\"       \"RA_A_NPM\"        \"RA_E_NPM\"        \"CHIR_A_NPM\"     \n",
       "[17] \"CHIR_E_NPM\"      \"FGF8_late_A_NPM\" \"FGF8_late_E_NPM\" \"CHIR_tA_NPM\"    \n",
       "[21] \"CHIR_tC_NPM\"     \"CHIR_tE_NPM\"    "
      ]
     },
     "metadata": {},
     "output_type": "display_data"
    }
   ],
   "source": [
    "write.table(enrichment, '/links/groups/treutlein/USERS/nazbukina/fatima_revision/data/enrichment_parse.tsv', sep='\\t')"
   ]
  },
  {
   "cell_type": "code",
   "execution_count": 179,
   "id": "dc2c442f-2e25-41f4-863b-049f4713f4ad",
   "metadata": {},
   "outputs": [],
   "source": [
    "library(ggalign)\n",
    "library(crthemes)\n",
    "library(ggthemr)\n",
    "path_fig = ''"
   ]
  },
  {
   "cell_type": "code",
   "execution_count": 288,
   "id": "5fe44fdf-1832-4df6-b64a-1cfce2307df4",
   "metadata": {},
   "outputs": [],
   "source": [
    "cell = 'H9' # change for each cell line\n",
    "\n",
    "pivot_df = enrichment[enrichment$Line == cell,]\n",
    "\n",
    "pivot_df <- pivot_df %>% select(c('Condition', 'Cluster','score'))  %>%\n",
    "  \n",
    "            pivot_wider(\n",
    "\n",
    "          \n",
    "          names_from = 'Cluster',\n",
    "         \n",
    "          values_from = 'score',\n",
    "          values_fill = 0.0,\n",
    "         \n",
    "        )\n",
    "pivot_df <- as.data.frame(pivot_df)\n",
    "rownames(pivot_df) <- pivot_df$Condition\n",
    "\n",
    "pivot_df['Ctrl_NIM', ] = rep(0, ncol(pivot_df))\n",
    "pivot_df['Ctrl_NPM', ] = rep(0, ncol(pivot_df))\n",
    "\n",
    "order_cond = c('Ctrl_NIM',\n",
    "'SHH_A_NIM','SHH_E_NIM','RA_A_NIM','RA_E_NIM','CHIR_A_NIM','CHIR_E_NIM','FGF8_late_A_NIM','FGF8_late_E_NIM',\n",
    "              'CHIR_tA_NIM','CHIR_tC_NIM','CHIR_tE_NIM',\n",
    "              'Ctrl_NPM','SHH_A_NPM','SHH_E_NPM',\n",
    "            'RA_A_NPM','RA_E_NPM','CHIR_A_NPM','CHIR_E_NPM','FGF8_late_A_NPM',\n",
    "              'FGF8_late_E_NPM','CHIR_tA_NPM','CHIR_tC_NPM','CHIR_tE_NPM')\n",
    "\n",
    "cell_type_order = c('Telencephalic Progenitors', 'Retinal Progenitors',\n",
    "'Cortical Hem/Diencephalon',   'Hypothalamic Progenitors',\n",
    "  'Midbrain Progenitors','Floor Plate',\n",
    "  'Hindbrain Progenitors', 'Spinal Cord Progenitors',\n",
    "  'PNS Neurons','Neuroectoderm/Neuroepithelium', 'CNS Neurons',\n",
    "  'Non-neurectodermal tissues','Neural Crest')\n",
    "  \n",
    "\n",
    "pivot_df = pivot_df[rev(order_cond),cell_type_order]   \n",
    "pivot_df$Condition <- NULL\n",
    "#pivot_df"
   ]
  },
  {
   "cell_type": "code",
   "execution_count": 289,
   "id": "3fca1937-6abf-4985-b7f1-a78643cd64a3",
   "metadata": {
    "scrolled": true
   },
   "outputs": [],
   "source": [
    "ncell = data[data['cell_line'] == cell, ]\n",
    "\n",
    "barplot_data <- ncell %>%\n",
    "  count(medium_morphogen) %>%\n",
    "  mutate(\n",
    "    log_n = round(log10(n),1)  # Create a new column with the log10-transformed counts\n",
    "  )\n",
    "\n",
    "\n",
    "\n",
    "barplot_data <- barplot_data %>%\n",
    "  mutate(\n",
    "    medium_morphogen = factor(\n",
    "      medium_morphogen,\n",
    "      levels = rev(order_cond) \n",
    "    )\n",
    "  )\n",
    "\n",
    "barplot <- ggplot(barplot_data, aes(x = log_n, y = medium_morphogen)) +\n",
    "  geom_col(fill = \"#595959\") +\n",
    "  labs(\n",
    "    x = \"Number of Entries\",\n",
    "    y = NULL  # Remove y-axis label to align better\n",
    "  ) +\n",
    "  \n",
    "  scale_x_reverse(breaks=c(max(barplot_data$log_n), 3,2, 0), expand = c(0, 0),\n",
    "                 limits = c(max(barplot_data$log_n), 0),position = \"top\") +\n",
    "  theme_rangeframe() + \n",
    "\n",
    "    coord_cartesian( xlim = c(max(barplot_data$log_n), 0))+ # to stop line from extending\n",
    "      theme(\n",
    "    axis.text.y = element_blank(),\n",
    "        axis.ticks.y = element_blank(),\n",
    "    axis.line.y = element_blank(),\n",
    "    axis.title.y = element_blank(),\n",
    "    strip.text = element_blank(),\n",
    "      \n",
    "      panel.border = element_blank(), \n",
    "    panel.grid.major = element_blank(),\n",
    "    panel.grid.minor = element_blank(),\n",
    "      axis.line.x= element_line(color=\"black\", size = 0.5),\n",
    "          text = element_text(family = \"sans\"),\n",
    "    axis.title = element_text(family = \"sans\"),\n",
    "    axis.text = element_text(family = \"sans\"),\n",
    "    legend.text = element_text(family = \"sans\"),\n",
    "    plot.title = element_text(family = \"sans\")\n",
    "  )\n",
    "\n"
   ]
  },
  {
   "cell_type": "code",
   "execution_count": 290,
   "id": "4e0728dd-0a51-43d1-8ad9-14a95a7452b9",
   "metadata": {},
   "outputs": [],
   "source": [
    "cell_type_colors <- list(\n",
    "  'Telencephalic Progenitors' = '#e0762f',\n",
    "  'Spinal Cord Progenitors' = '#a66d9b',\n",
    "  'Hindbrain Progenitors' = '#e78e97',\n",
    "  'Neuroectoderm/Neuroepithelium' = '#f4c617',\n",
    "  'Hypothalamic Progenitors' = '#e83d63',\n",
    "  'CNS Neurons' = '#3a5a89',\n",
    "  'Cortical Hem/Diencephalon' = '#7A0000',\n",
    "  'PNS Neurons' = '#2983aa',\n",
    "  'Floor Plate' = '#8d4c88',\n",
    "  'Midbrain Progenitors' = '#30d8c8',\n",
    "  'Retinal Progenitors' = '#ac383f',\n",
    "  'Mesenchyme' = '#92c051',\n",
    "  'Neural Crest' = '#474a82',\n",
    "  'Extraembryonic Tissue' = '#A5BC7B',\n",
    "  'Endoderm/mesoderm-derived tissues' = '#67BD1B',\n",
    "  'Non-neurectodermal tissues' = '#92c051',\n",
    "  'Hindbrain_NPM?' = '#f3c2c7'\n",
    ")\n",
    "\n",
    "\n",
    "data_percentage <- ncell %>%\n",
    "  group_by(medium_morphogen, fullname_v5) %>%\n",
    "  summarise(count = n(), .groups = \"drop\") %>%\n",
    "  group_by(medium_morphogen) %>%\n",
    "  mutate(percentage = count / sum(count) * 100)\n",
    "\n",
    "data_percentage$fullname_v5 <- factor(data_percentage$fullname_v5, \n",
    "                                      levels = rev(c(cell_type_order)))\n",
    "                                          \n",
    "data_percentage <- data_percentage %>%\n",
    "  mutate(\n",
    "    medium_morphogen = factor(\n",
    "      medium_morphogen,\n",
    "      levels = rev(order_cond) \n",
    "    )\n",
    "  )\n",
    "# Create the stacked barplot\n",
    "stacked_barplot <- ggplot(data_percentage, aes(y = medium_morphogen, x = percentage, fill = fullname_v5)) +\n",
    "  geom_bar(stat = \"identity\") +  # Use identity because percentages are precomputed\n",
    "\n",
    "  scale_fill_manual(values = cell_type_colors)+\n",
    "  labs(\n",
    "    y = NULL,\n",
    "    x = NULL,\n",
    "    fill = NULL,\n",
    "    title = NULL\n",
    "  ) +\n",
    "  \n",
    "  scale_x_continuous(breaks=c(0, 25,50,75,100), expand = c(0, 0),position = \"top\") +\n",
    "  theme_rangeframe() + \n",
    "\n",
    "    coord_cartesian( xlim = c(0, 100))+ # to stop line from extending\n",
    "      theme(\n",
    "    axis.text.y = element_blank(),\n",
    "        axis.ticks.y = element_blank(),\n",
    "    axis.line.y = element_blank(),\n",
    "    axis.title.y = element_blank(),\n",
    "    strip.text = element_blank(),\n",
    "      \n",
    "      panel.border = element_blank(), \n",
    "    panel.grid.major = element_blank(),\n",
    "    panel.grid.minor = element_blank(),\n",
    "      axis.line.x= element_line(color=\"black\", size = 0.5),\n",
    "          legend.position = \"none\" ,\n",
    "        \n",
    "    text = element_text(family = \"sans\"),\n",
    "    axis.title = element_text(family = \"sans\"),\n",
    "    axis.text = element_text(family = \"sans\"),\n",
    "    legend.text = element_text(family = \"sans\"),\n",
    "    plot.title = element_text(family = \"sans\")\n",
    "  )\n",
    "\n"
   ]
  },
  {
   "cell_type": "code",
   "execution_count": 291,
   "id": "70f0a11f-ff85-4f5c-91e8-f9ec7216ba7f",
   "metadata": {},
   "outputs": [
    {
     "name": "stderr",
     "output_type": "stream",
     "text": [
      "\u001b[1m\u001b[22m→ heatmap built with `geom_tile()`\n"
     ]
    },
    {
     "data": {
      "text/html": [
       "<strong>png:</strong> 2"
      ],
      "text/latex": [
       "\\textbf{png:} 2"
      ],
      "text/markdown": [
       "**png:** 2"
      ],
      "text/plain": [
       "png \n",
       "  2 "
      ]
     },
     "metadata": {},
     "output_type": "display_data"
    }
   ],
   "source": [
    "#options(repr.plot.width=15, repr.plot.height=8)\n",
    "\n",
    "\n",
    "setwd(path_fig)\n",
    "pdf(paste0(cell,\".pdf\"),width=15,height=8)\n",
    "\n",
    "\n",
    "ggheatmap(pivot_df) + scale_fill_gradientn(colors=c(cols_grad)) + \n",
    "  theme(\n",
    "    axis.text.x = element_text(angle = 45, hjust = 1),\n",
    "    axis.text.y = element_blank(),\n",
    "        axis.ticks.y = element_blank()# Rotate labels 45 degrees\n",
    "  )+\n",
    "  anno_left(size=0.5) + ggfree()+barplot +\n",
    "  anno_right(size=2) + ggfree() + stacked_barplot\n",
    "\n",
    "dev.off()\n",
    "\n",
    "ggsave(paste0(path_fig, \"H9.pdf\"), # change names for each cell line\n",
    "       #width=15, height=8\n",
    "\n"
   ]
  },
  {
   "cell_type": "code",
   "execution_count": null,
   "id": "bea33801-16d9-42b5-944d-b0d897d0ece6",
   "metadata": {},
   "outputs": [],
   "source": []
  },
  {
   "cell_type": "code",
   "execution_count": null,
   "id": "127c42e4-a2cc-4027-a136-e0f692045b86",
   "metadata": {},
   "outputs": [],
   "source": []
  },
  {
   "cell_type": "code",
   "execution_count": null,
   "id": "6471ca75-3fdf-41c0-9ad7-69cf6b2ec1b7",
   "metadata": {},
   "outputs": [],
   "source": []
  },
  {
   "cell_type": "code",
   "execution_count": null,
   "id": "57c23fc3-e53e-4815-8add-5f24a260fcd3",
   "metadata": {},
   "outputs": [],
   "source": []
  },
  {
   "cell_type": "code",
   "execution_count": null,
   "id": "15368de8-61af-421c-8f78-056211f7dd91",
   "metadata": {},
   "outputs": [],
   "source": []
  },
  {
   "cell_type": "code",
   "execution_count": null,
   "id": "73bfd081-d696-48c2-acf3-6e7f69a20d5a",
   "metadata": {},
   "outputs": [],
   "source": []
  }
 ],
 "metadata": {
  "kernelspec": {
   "display_name": "R EDA2",
   "language": "R",
   "name": "eda2r"
  },
  "language_info": {
   "codemirror_mode": "r",
   "file_extension": ".r",
   "mimetype": "text/x-r-source",
   "name": "R",
   "pygments_lexer": "r",
   "version": "4.3.3"
  }
 },
 "nbformat": 4,
 "nbformat_minor": 5
}

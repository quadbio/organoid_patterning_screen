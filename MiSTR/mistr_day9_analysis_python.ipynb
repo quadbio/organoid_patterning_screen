{
 "cells": [
  {
   "cell_type": "code",
   "execution_count": 1,
   "id": "4cb98a75-d589-4f1c-bc96-40b7e111a898",
   "metadata": {},
   "outputs": [],
   "source": [
    "import colour_scheme as cs\n",
    "\n",
    "import importlib\n",
    "importlib.reload(cs)\n",
    "import scanpy as sc\n",
    "sc.settings.set_figure_params(dpi=100, fontsize=10, dpi_save=250, format='pdf')\n",
    "import numpy as np\n",
    "import pandas as pd\n",
    "from scipy import io\n",
    "from matplotlib.pyplot import rc_context\n",
    "import matplotlib.pyplot as plt\n",
    "import seaborn as sns\n",
    "import warnings\n",
    "warnings.filterwarnings(action='ignore')\n",
    "\n",
    "%matplotlib inline\n",
    "\n",
    "import matplotlib as mpl\n",
    "from matplotlib.colors import ListedColormap, LinearSegmentedColormap\n",
    "from matplotlib import cm\n",
    "\n",
    "\n",
    "viridis = cm.get_cmap('YlGnBu', 256)\n",
    "newcolors = viridis(np.linspace(0, 1, 256))\n",
    "\n",
    "pink = np.array([211/256, 211/256, 211/256, 1])\n",
    "\n",
    "newcolors[:25, :] = pink\n",
    "newcmp = ListedColormap(newcolors)\n",
    "\n",
    "from pathlib import Path\n",
    "path_data = ''"
   ]
  },
  {
   "cell_type": "markdown",
   "id": "492edb7d-1f4f-437d-aeac-68bdac671275",
   "metadata": {},
   "source": [
    "# Percent neuron d9"
   ]
  },
  {
   "cell_type": "code",
   "execution_count": 4,
   "id": "3134cba9-10bf-48d3-bc1f-3fb764477d73",
   "metadata": {},
   "outputs": [
    {
     "data": {
      "text/html": [
       "<div>\n",
       "<style scoped>\n",
       "    .dataframe tbody tr th:only-of-type {\n",
       "        vertical-align: middle;\n",
       "    }\n",
       "\n",
       "    .dataframe tbody tr th {\n",
       "        vertical-align: top;\n",
       "    }\n",
       "\n",
       "    .dataframe thead th {\n",
       "        text-align: right;\n",
       "    }\n",
       "</style>\n",
       "<table border=\"1\" class=\"dataframe\">\n",
       "  <thead>\n",
       "    <tr style=\"text-align: right;\">\n",
       "      <th></th>\n",
       "      <th>orig.ident</th>\n",
       "      <th>nCount_RNA</th>\n",
       "      <th>nFeature_RNA</th>\n",
       "      <th>cell_line</th>\n",
       "      <th>nCount_HTO</th>\n",
       "      <th>nFeature_HTO</th>\n",
       "      <th>HTO_maxID</th>\n",
       "      <th>HTO_secondID</th>\n",
       "      <th>HTO_margin</th>\n",
       "      <th>HTO_classification</th>\n",
       "      <th>...</th>\n",
       "      <th>RNA_snn_res.0.75</th>\n",
       "      <th>seurat_clusters</th>\n",
       "      <th>timepoint</th>\n",
       "      <th>RNA_snn_res.1</th>\n",
       "      <th>RNA_snn_res.0.8</th>\n",
       "      <th>RNA_snn_res.0.5</th>\n",
       "      <th>batch</th>\n",
       "      <th>Condition</th>\n",
       "      <th>seurat_cluster_annotation</th>\n",
       "      <th>Condition_batch</th>\n",
       "    </tr>\n",
       "  </thead>\n",
       "  <tbody>\n",
       "    <tr>\n",
       "      <th>splitMR_AAACCCACACAGCCTG</th>\n",
       "      <td>splitMiSTR</td>\n",
       "      <td>9943</td>\n",
       "      <td>4106</td>\n",
       "      <td>H9</td>\n",
       "      <td>286</td>\n",
       "      <td>7</td>\n",
       "      <td>HTO2</td>\n",
       "      <td>unmapped</td>\n",
       "      <td>0.799077</td>\n",
       "      <td>HTO2</td>\n",
       "      <td>...</td>\n",
       "      <td>6</td>\n",
       "      <td>3</td>\n",
       "      <td>9d</td>\n",
       "      <td>3</td>\n",
       "      <td>2</td>\n",
       "      <td>3</td>\n",
       "      <td>splitMiSTR</td>\n",
       "      <td>B</td>\n",
       "      <td>Hypothalamic Progenitors</td>\n",
       "      <td>B_splitMiSTR</td>\n",
       "    </tr>\n",
       "    <tr>\n",
       "      <th>splitMR_AAACCCAGTAACTGCT</th>\n",
       "      <td>splitMiSTR</td>\n",
       "      <td>8996</td>\n",
       "      <td>3988</td>\n",
       "      <td>H9</td>\n",
       "      <td>252</td>\n",
       "      <td>7</td>\n",
       "      <td>HTO2</td>\n",
       "      <td>unmapped</td>\n",
       "      <td>1.172203</td>\n",
       "      <td>HTO2</td>\n",
       "      <td>...</td>\n",
       "      <td>3</td>\n",
       "      <td>3</td>\n",
       "      <td>9d</td>\n",
       "      <td>3</td>\n",
       "      <td>2</td>\n",
       "      <td>3</td>\n",
       "      <td>splitMiSTR</td>\n",
       "      <td>B</td>\n",
       "      <td>Hypothalamic Progenitors</td>\n",
       "      <td>B_splitMiSTR</td>\n",
       "    </tr>\n",
       "    <tr>\n",
       "      <th>splitMR_AAACCCAGTAGGAAAG</th>\n",
       "      <td>splitMiSTR</td>\n",
       "      <td>6987</td>\n",
       "      <td>3397</td>\n",
       "      <td>H9</td>\n",
       "      <td>216</td>\n",
       "      <td>7</td>\n",
       "      <td>HTO5</td>\n",
       "      <td>unmapped</td>\n",
       "      <td>1.387183</td>\n",
       "      <td>HTO5</td>\n",
       "      <td>...</td>\n",
       "      <td>3</td>\n",
       "      <td>3</td>\n",
       "      <td>9d</td>\n",
       "      <td>3</td>\n",
       "      <td>2</td>\n",
       "      <td>3</td>\n",
       "      <td>splitMiSTR</td>\n",
       "      <td>E</td>\n",
       "      <td>Hypothalamic Progenitors</td>\n",
       "      <td>E_splitMiSTR</td>\n",
       "    </tr>\n",
       "    <tr>\n",
       "      <th>splitMR_AAACCCAGTTATCTTC</th>\n",
       "      <td>splitMiSTR</td>\n",
       "      <td>8691</td>\n",
       "      <td>3679</td>\n",
       "      <td>H9</td>\n",
       "      <td>378</td>\n",
       "      <td>7</td>\n",
       "      <td>HTO6</td>\n",
       "      <td>unmapped</td>\n",
       "      <td>1.711595</td>\n",
       "      <td>HTO6</td>\n",
       "      <td>...</td>\n",
       "      <td>0</td>\n",
       "      <td>2</td>\n",
       "      <td>9d</td>\n",
       "      <td>0</td>\n",
       "      <td>1</td>\n",
       "      <td>2</td>\n",
       "      <td>splitMiSTR</td>\n",
       "      <td>Control</td>\n",
       "      <td>Cortical-PSB-LGE Progenitors</td>\n",
       "      <td>Control_splitMiSTR</td>\n",
       "    </tr>\n",
       "    <tr>\n",
       "      <th>splitMR_AAACCCATCGATTGGT</th>\n",
       "      <td>splitMiSTR</td>\n",
       "      <td>7553</td>\n",
       "      <td>3516</td>\n",
       "      <td>H9</td>\n",
       "      <td>557</td>\n",
       "      <td>7</td>\n",
       "      <td>HTO5</td>\n",
       "      <td>unmapped</td>\n",
       "      <td>2.021712</td>\n",
       "      <td>HTO5</td>\n",
       "      <td>...</td>\n",
       "      <td>3</td>\n",
       "      <td>3</td>\n",
       "      <td>9d</td>\n",
       "      <td>3</td>\n",
       "      <td>2</td>\n",
       "      <td>3</td>\n",
       "      <td>splitMiSTR</td>\n",
       "      <td>E</td>\n",
       "      <td>Hypothalamic Progenitors</td>\n",
       "      <td>E_splitMiSTR</td>\n",
       "    </tr>\n",
       "  </tbody>\n",
       "</table>\n",
       "<p>5 rows × 27 columns</p>\n",
       "</div>"
      ],
      "text/plain": [
       "                          orig.ident  nCount_RNA  nFeature_RNA cell_line  \\\n",
       "splitMR_AAACCCACACAGCCTG  splitMiSTR        9943          4106        H9   \n",
       "splitMR_AAACCCAGTAACTGCT  splitMiSTR        8996          3988        H9   \n",
       "splitMR_AAACCCAGTAGGAAAG  splitMiSTR        6987          3397        H9   \n",
       "splitMR_AAACCCAGTTATCTTC  splitMiSTR        8691          3679        H9   \n",
       "splitMR_AAACCCATCGATTGGT  splitMiSTR        7553          3516        H9   \n",
       "\n",
       "                          nCount_HTO  nFeature_HTO HTO_maxID HTO_secondID  \\\n",
       "splitMR_AAACCCACACAGCCTG         286             7      HTO2     unmapped   \n",
       "splitMR_AAACCCAGTAACTGCT         252             7      HTO2     unmapped   \n",
       "splitMR_AAACCCAGTAGGAAAG         216             7      HTO5     unmapped   \n",
       "splitMR_AAACCCAGTTATCTTC         378             7      HTO6     unmapped   \n",
       "splitMR_AAACCCATCGATTGGT         557             7      HTO5     unmapped   \n",
       "\n",
       "                          HTO_margin HTO_classification  ... RNA_snn_res.0.75  \\\n",
       "splitMR_AAACCCACACAGCCTG    0.799077               HTO2  ...                6   \n",
       "splitMR_AAACCCAGTAACTGCT    1.172203               HTO2  ...                3   \n",
       "splitMR_AAACCCAGTAGGAAAG    1.387183               HTO5  ...                3   \n",
       "splitMR_AAACCCAGTTATCTTC    1.711595               HTO6  ...                0   \n",
       "splitMR_AAACCCATCGATTGGT    2.021712               HTO5  ...                3   \n",
       "\n",
       "                         seurat_clusters  timepoint  RNA_snn_res.1  \\\n",
       "splitMR_AAACCCACACAGCCTG               3         9d              3   \n",
       "splitMR_AAACCCAGTAACTGCT               3         9d              3   \n",
       "splitMR_AAACCCAGTAGGAAAG               3         9d              3   \n",
       "splitMR_AAACCCAGTTATCTTC               2         9d              0   \n",
       "splitMR_AAACCCATCGATTGGT               3         9d              3   \n",
       "\n",
       "                         RNA_snn_res.0.8 RNA_snn_res.0.5       batch  \\\n",
       "splitMR_AAACCCACACAGCCTG               2               3  splitMiSTR   \n",
       "splitMR_AAACCCAGTAACTGCT               2               3  splitMiSTR   \n",
       "splitMR_AAACCCAGTAGGAAAG               2               3  splitMiSTR   \n",
       "splitMR_AAACCCAGTTATCTTC               1               2  splitMiSTR   \n",
       "splitMR_AAACCCATCGATTGGT               2               3  splitMiSTR   \n",
       "\n",
       "                          Condition     seurat_cluster_annotation  \\\n",
       "splitMR_AAACCCACACAGCCTG          B      Hypothalamic Progenitors   \n",
       "splitMR_AAACCCAGTAACTGCT          B      Hypothalamic Progenitors   \n",
       "splitMR_AAACCCAGTAGGAAAG          E      Hypothalamic Progenitors   \n",
       "splitMR_AAACCCAGTTATCTTC    Control  Cortical-PSB-LGE Progenitors   \n",
       "splitMR_AAACCCATCGATTGGT          E      Hypothalamic Progenitors   \n",
       "\n",
       "                             Condition_batch  \n",
       "splitMR_AAACCCACACAGCCTG        B_splitMiSTR  \n",
       "splitMR_AAACCCAGTAACTGCT        B_splitMiSTR  \n",
       "splitMR_AAACCCAGTAGGAAAG        E_splitMiSTR  \n",
       "splitMR_AAACCCAGTTATCTTC  Control_splitMiSTR  \n",
       "splitMR_AAACCCATCGATTGGT        E_splitMiSTR  \n",
       "\n",
       "[5 rows x 27 columns]"
      ]
     },
     "execution_count": 4,
     "metadata": {},
     "output_type": "execute_result"
    }
   ],
   "source": [
    "d9 = pd.read_csv(Path(path_data)/\"mistr_d9_meta.tsv\", sep='\\t')\n",
    "d9['Condition_batch'] = d9['Condition'].astype(str) + '_' + d9['orig.ident'].astype(str) \n",
    "d9.head()"
   ]
  },
  {
   "cell_type": "code",
   "execution_count": 5,
   "id": "c19ea6d4-688f-4582-bd5c-83cfb46426f4",
   "metadata": {},
   "outputs": [
    {
     "data": {
      "text/plain": [
       "array(['Hypothalamic Progenitors', 'Cortical-PSB-LGE Progenitors',\n",
       "       'Floor Plate', 'Ventral Neuroepithelium', 'Ventral Neuroblasts',\n",
       "       'Hypothalamic Neurons', 'Ventral Tele-, Diencephalon Progenitors',\n",
       "       'Undetermined'], dtype=object)"
      ]
     },
     "execution_count": 5,
     "metadata": {},
     "output_type": "execute_result"
    }
   ],
   "source": [
    "d9.seurat_cluster_annotation.unique()"
   ]
  },
  {
   "cell_type": "code",
   "execution_count": 7,
   "id": "4a3a4cd3-ca98-4233-9f88-e657e01ce9fe",
   "metadata": {},
   "outputs": [
    {
     "data": {
      "text/plain": [
       "simple_cells  batch     \n",
       "NPC           splitMiSTR    6\n",
       "Neuron        splitMiSTR    6\n",
       "off           splitMiSTR    6\n",
       "NPC           MiSTR         5\n",
       "Neuron        MiSTR         5\n",
       "off           MiSTR         5\n",
       "Name: count, dtype: int64"
      ]
     },
     "execution_count": 7,
     "metadata": {},
     "output_type": "execute_result"
    }
   ],
   "source": [
    "simple_cell = {'Hypothalamic Progenitors':'NPC', 'Cortical-PSB-LGE Progenitors':'NPC',\n",
    "       'Floor Plate':'NPC', 'Ventral Neuroepithelium':'NPC', 'Ventral Neuroblasts':'Neuron',\n",
    "       'Hypothalamic Neurons':'Neuron', 'Ventral Tele-, Diencephalon Progenitors':'NPC',\n",
    "       'Undetermined':'off'}\n",
    "\n",
    "\n",
    "d9['simple_cells'] = d9['seurat_cluster_annotation'].map(simple_cell)\n",
    "dfc = pd.crosstab(d9['Condition_batch'], d9['simple_cells'], normalize='index').mul(100).round(100)\n",
    "dfc['Condition_batch'] = dfc.index.copy()\n",
    "\n",
    "dfc = pd.melt(dfc,id_vars = ['Condition_batch'], value_vars = ['NPC', 'Neuron', 'off'])\n",
    "dfc['batch'] = dfc['Condition_batch'].str.split('_').str[1]\n",
    "dfc[['simple_cells', 'batch']].value_counts()\n",
    "\n"
   ]
  },
  {
   "cell_type": "code",
   "execution_count": 64,
   "id": "43395f2e-b018-44bf-9964-d8a713269808",
   "metadata": {},
   "outputs": [
    {
     "data": {
      "image/png": "[encoded data removed]",
      "text/plain": [
       "<Figure size 500x300 with 1 Axes>"
      ]
     },
     "metadata": {
      "image/png": {
       "height": 283,
       "width": 483
      }
     },
     "output_type": "display_data"
    }
   ],
   "source": [
    "sns.set(rc={'figure.figsize':(5,3)})\n",
    "\n",
    "sns.set_style(\"white\")\n",
    "sns.set_style('ticks')\n",
    "\n",
    "\n",
    "cols_orig = {'splitMiSTR':'#FCAA67', 'MiSTR':'#6F4C4C'}\n",
    "\n",
    "sns.boxplot(data=dfc, y=\"simple_cells\", x=\"value\", hue=\"batch\", \n",
    "              palette = cols_orig, fill=False, showfliers = False, dodge=True, gap=.2)\n",
    "\n",
    "\n",
    "sns.swarmplot(data=dfc, y=\"simple_cells\", x=\"value\", hue=\"batch\", palette = cols_orig,s=2.5, dodge=True)\n",
    "sns.despine(offset=1, trim=True, bottom=True, top=False)\n",
    "plt.tick_params(top=True, labeltop=True, bottom=False, labelbottom=False)\n",
    "\n",
    "plt.legend('')\n",
    "\n",
    "\n",
    "plt.xlabel('')\n",
    "plt.ylabel('')\n",
    "\n",
    "plt.tight_layout()\n",
    "\n",
    "plt.rcParams['pdf.fonttype'] = 42 \n",
    "plt.savefig('Neurons_d9_dots.pdf', dpi=300)\n",
    "\n",
    "plt.show()"
   ]
  },
  {
   "cell_type": "markdown",
   "id": "5b7d0e17-c42d-4f03-bc78-6361e6fc5752",
   "metadata": {},
   "source": [
    "# d21"
   ]
  },
  {
   "cell_type": "code",
   "execution_count": 82,
   "id": "6f164b69-b27c-4f58-96cc-bbd455d23120",
   "metadata": {},
   "outputs": [
    {
     "data": {
      "text/plain": [
       "array(['B', 'C', 'D', 'Control', 'E', 'A'], dtype=object)"
      ]
     },
     "execution_count": 82,
     "metadata": {},
     "output_type": "execute_result"
    }
   ],
   "source": [
    "d9 = pd.read_csv(Path(path_data)/\"mistr_d21_meta.tsv\", sep='\\t')\n",
    "d9 = d9[~d9['Condition'].isin(['Doublet', 'Negative'])]\n",
    "d9['Condition_batch'] = d9['Condition'].astype(str) + '_' + d9['orig.ident'].astype(str) \n",
    "d9.head()\n",
    "d9.Condition.unique()"
   ]
  },
  {
   "cell_type": "code",
   "execution_count": 83,
   "id": "410bc669-e22e-412e-ae1c-cf9a079df6dc",
   "metadata": {},
   "outputs": [
    {
     "data": {
      "text/plain": [
       "array(['Floorplate (Midbrain)', 'Cycling Telencephalic Progenitors (G2M)',\n",
       "       'MGE Progenitors', 'PoA / Caudal Hypothalamic Progenitors',\n",
       "       'Cortical-PSB-LGE Progenitors', 'LGE-derived Interneurons',\n",
       "       'Preoptic / Mediobasal Hypothalamic Progenitors',\n",
       "       'MGE-derived Interneurons (GABA/ACh)', 'Hypothalamic Neurons',\n",
       "       'Cycling Telencephalic Progenitors (S)',\n",
       "       'MGE-derived Interneurons (ACh)', 'Off-Targets'], dtype=object)"
      ]
     },
     "execution_count": 83,
     "metadata": {},
     "output_type": "execute_result"
    }
   ],
   "source": [
    "d9.seurat_cluster_annotation.unique()"
   ]
  },
  {
   "cell_type": "code",
   "execution_count": 84,
   "id": "826a3ad4-af41-43b9-a078-cc8f055be8f1",
   "metadata": {},
   "outputs": [
    {
     "data": {
      "text/html": [
       "<div>\n",
       "<style scoped>\n",
       "    .dataframe tbody tr th:only-of-type {\n",
       "        vertical-align: middle;\n",
       "    }\n",
       "\n",
       "    .dataframe tbody tr th {\n",
       "        vertical-align: top;\n",
       "    }\n",
       "\n",
       "    .dataframe thead th {\n",
       "        text-align: right;\n",
       "    }\n",
       "</style>\n",
       "<table border=\"1\" class=\"dataframe\">\n",
       "  <thead>\n",
       "    <tr style=\"text-align: right;\">\n",
       "      <th></th>\n",
       "      <th>Condition_batch</th>\n",
       "      <th>simple_cells</th>\n",
       "      <th>value</th>\n",
       "      <th>batch</th>\n",
       "    </tr>\n",
       "  </thead>\n",
       "  <tbody>\n",
       "    <tr>\n",
       "      <th>0</th>\n",
       "      <td>A_MiSTR</td>\n",
       "      <td>NPC</td>\n",
       "      <td>57.462687</td>\n",
       "      <td>MiSTR</td>\n",
       "    </tr>\n",
       "    <tr>\n",
       "      <th>1</th>\n",
       "      <td>A_splitMiSTR</td>\n",
       "      <td>NPC</td>\n",
       "      <td>78.467909</td>\n",
       "      <td>splitMiSTR</td>\n",
       "    </tr>\n",
       "    <tr>\n",
       "      <th>2</th>\n",
       "      <td>B_MiSTR</td>\n",
       "      <td>NPC</td>\n",
       "      <td>71.503680</td>\n",
       "      <td>MiSTR</td>\n",
       "    </tr>\n",
       "    <tr>\n",
       "      <th>3</th>\n",
       "      <td>B_splitMiSTR</td>\n",
       "      <td>NPC</td>\n",
       "      <td>81.151832</td>\n",
       "      <td>splitMiSTR</td>\n",
       "    </tr>\n",
       "    <tr>\n",
       "      <th>4</th>\n",
       "      <td>C_MiSTR</td>\n",
       "      <td>NPC</td>\n",
       "      <td>82.673267</td>\n",
       "      <td>MiSTR</td>\n",
       "    </tr>\n",
       "  </tbody>\n",
       "</table>\n",
       "</div>"
      ],
      "text/plain": [
       "  Condition_batch simple_cells      value       batch\n",
       "0         A_MiSTR          NPC  57.462687       MiSTR\n",
       "1    A_splitMiSTR          NPC  78.467909  splitMiSTR\n",
       "2         B_MiSTR          NPC  71.503680       MiSTR\n",
       "3    B_splitMiSTR          NPC  81.151832  splitMiSTR\n",
       "4         C_MiSTR          NPC  82.673267       MiSTR"
      ]
     },
     "execution_count": 84,
     "metadata": {},
     "output_type": "execute_result"
    }
   ],
   "source": [
    "simple_cell = {'Floorplate (Midbrain)':'NPC',\n",
    "               'Preoptic / Mediobasal Hypothalamic Progenitors':'NPC',\n",
    "               'Cortical-PSB-LGE Progenitors':'NPC',\n",
    "               'Cycling Telencephalic Progenitors (G2M)':'NPC',\n",
    "                'MGE Progenitors':'NPC',\n",
    "               'PoA / Caudal Hypothalamic Progenitors':'NPC',\n",
    "               'MGE-derived Interneurons (ACh)':'Neuron', \n",
    "                'Hypothalamic Neurons':'Neuron',\n",
    "               'LGE-derived Interneurons':'Neuron', \n",
    "                'MGE-derived Interneurons (GABA/ACh)':'Neuron',\n",
    "               'Cycling Telencephalic Progenitors (S)':'NPC',\n",
    "                       'Off-Targets':'off'}\n",
    "    \n",
    "\n",
    "d9['simple_cells'] = d9['seurat_cluster_annotation'].map(simple_cell)\n",
    "dfc = pd.crosstab(d9['Condition_batch'], d9['simple_cells'], normalize='index').mul(100).round(100)\n",
    "dfc['Condition_batch'] = dfc.index.copy()\n",
    "\n",
    "dfc = pd.melt(dfc,id_vars = ['Condition_batch'], value_vars = ['NPC', 'Neuron', 'off'])\n",
    "dfc['batch'] = dfc['Condition_batch'].str.split('_').str[1]\n",
    "dfc.head()"
   ]
  },
  {
   "cell_type": "code",
   "execution_count": 85,
   "id": "f347ac3d-69d4-427c-ad7d-6ba687178d10",
   "metadata": {},
   "outputs": [
    {
     "data": {
      "image/png": "[encoded data removed]",
      "text/plain": [
       "<Figure size 500x300 with 1 Axes>"
      ]
     },
     "metadata": {
      "image/png": {
       "height": 283,
       "width": 483
      }
     },
     "output_type": "display_data"
    }
   ],
   "source": [
    "sns.set(rc={'figure.figsize':(5,3)})\n",
    "\n",
    "sns.set_style(\"white\")\n",
    "sns.set_style('ticks')\n",
    "\n",
    "\n",
    "cols_orig = {'splitMiSTR':'#FCAA67', 'MiSTR':'#6F4C4C'}\n",
    "\n",
    "sns.boxplot(data=dfc, y=\"simple_cells\", x=\"value\", hue=\"batch\", \n",
    "              palette = cols_orig, fill=False, showfliers = False, dodge=True, gap=.2)\n",
    "\n",
    "\n",
    "sns.swarmplot(data=dfc, y=\"simple_cells\", x=\"value\", hue=\"batch\", palette = cols_orig,s=2.5, dodge=True)\n",
    "sns.despine(offset=1, trim=False, bottom=True, top=False)\n",
    "plt.tick_params(top=True, labeltop=True, bottom=False, labelbottom=False)\n",
    "plt.xlim((0,100))\n",
    "plt.xticks([0, 20, 40, 60, 80,100])  \n",
    "\n",
    "plt.legend('')\n",
    "\n",
    "\n",
    "plt.xlabel('')\n",
    "plt.ylabel('')\n",
    "\n",
    "plt.tight_layout()\n",
    "\n",
    "plt.rcParams['pdf.fonttype'] = 42 \n",
    "plt.savefig('Neurons_d21_dots.pdf', dpi=300)\n",
    "\n",
    "plt.show()"
   ]
  }
 ],
 "metadata": {
  "kernelspec": {
   "display_name": "EDA2",
   "language": "python",
   "name": "eda2"
  },
  "language_info": {
   "codemirror_mode": {
    "name": "ipython",
    "version": 3
   },
   "file_extension": ".py",
   "mimetype": "text/x-python",
   "name": "python",
   "nbconvert_exporter": "python",
   "pygments_lexer": "ipython3",
   "version": "3.12.3"
  }
 },
 "nbformat": 4,
 "nbformat_minor": 5
}

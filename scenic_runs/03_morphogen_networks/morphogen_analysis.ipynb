{
 "cells": [
  {
   "cell_type": "markdown",
   "id": "9c7447f5",
   "metadata": {},
   "source": [
    "# Stage 3: Morphogen-Regulon Network Analysis\n",
    "\n",
    "This notebook creates networks connecting morphogens, timing, and medium conditions to regulon activities using GRNBoost2.\n",
    "\n",
    "**Input**: Consensus regulons from Stage 2, original AUCell matrices\n",
    "**Output**: Morphogen-regulon interaction networks\n",
    "**Method**: GRNBoost2 network inference"
   ]
  },
  {
   "cell_type": "code",
   "execution_count": null,
   "id": "41b52a04",
   "metadata": {},
   "outputs": [],
   "source": [
    "import pandas as pd\n",
    "import numpy as np\n",
    "import scanpy as sc\n",
    "import os\n",
    "import warnings\n",
    "warnings.filterwarnings('ignore')\n",
    "\n",
    "# Import GRNBoost analysis utilities\n",
    "import sys\n",
    "sys.path.append('../src')\n",
    "from grnboost_analysis import (\n",
    "    load_morphogen_data,\n",
    "    run_grnboost_analysis,\n",
    "    analyze_networks,\n",
    "    save_network_results\n",
    ")\n",
    "\n",
    "print(\"📊 Stage 3: Morphogen-Regulon Network Analysis\")\n",
    "print(\"Using GRNBoost2 to connect morphogens to regulon activities\")"
   ]
  },
  {
   "cell_type": "markdown",
   "id": "0297378f",
   "metadata": {},
   "source": [
    "## 3.1 Load Data\n",
    "\n",
    "Load the morphogen data and AUCell matrices for network inference."
   ]
  },
  {
   "cell_type": "code",
   "execution_count": null,
   "id": "1d0d8283",
   "metadata": {},
   "outputs": [],
   "source": [
    "# Load morphogen and timing data\n",
    "print(\"Loading morphogen data...\")\n",
    "morphogen_data = load_morphogen_data()\n",
    "\n",
    "print(f\"Morphogen features: {list(morphogen_data.columns)}\")\n",
    "print(f\"Data shape: {morphogen_data.shape}\")\n",
    "print(f\"Sample of morphogen data:\")\n",
    "print(morphogen_data.head())"
   ]
  },
  {
   "cell_type": "code",
   "execution_count": null,
   "id": "d6cd3aca",
   "metadata": {},
   "outputs": [],
   "source": [
    "# Load AUCell matrices for each cell line\n",
    "# These should be the results from pySCENIC runs\n",
    "\n",
    "aucell_data = {}\n",
    "for cell_line in ['H1', 'WTC', 'H9', 'WIBJ2']:\n",
    "    \n",
    "    # Look for AUCell files in the results\n",
    "    aucell_dir = f\"../01_pyscenic_runs/results/{cell_line}\"\n",
    "    \n",
    "    if os.path.exists(aucell_dir):\n",
    "        aucell_files = [f for f in os.listdir(aucell_dir) if 'aucell' in f.lower() and f.endswith('.csv')]\n",
    "        \n",
    "        if aucell_files:\n",
    "            # Load the first AUCell file found\n",
    "            aucell_file = f\"{aucell_dir}/{aucell_files[0]}\"\n",
    "            print(f\"Loading AUCell data for {cell_line}: {aucell_files[0]}\")\n",
    "            \n",
    "            aucell_df = pd.read_csv(aucell_file, index_col=0)\n",
    "            aucell_data[cell_line] = aucell_df\n",
    "            \n",
    "            print(f\"  Shape: {aucell_df.shape}\")\n",
    "            print(f\"  Regulons: {aucell_df.shape[1]}\")\n",
    "        else:\n",
    "            print(f\"❌ No AUCell files found for {cell_line}\")\n",
    "    else:\n",
    "        print(f\"❌ Directory not found: {aucell_dir}\")\n",
    "\n",
    "print(f\"\\nLoaded AUCell data for {len(aucell_data)} cell lines\")"
   ]
  },
  {
   "cell_type": "markdown",
   "id": "302ba1cc",
   "metadata": {},
   "source": [
    "## 3.2 Run GRNBoost Analysis\n",
    "\n",
    "Use GRNBoost2 to infer networks connecting morphogens to regulon activities."
   ]
  },
  {
   "cell_type": "code",
   "execution_count": null,
   "id": "be85358a",
   "metadata": {},
   "outputs": [],
   "source": [
    "# Run GRNBoost analysis for each cell line\n",
    "network_results = {}\n",
    "\n",
    "for cell_line, aucell_df in aucell_data.items():\n",
    "    print(f\"\\n{'='*50}\")\n",
    "    print(f\"Running GRNBoost analysis for {cell_line}\")\n",
    "    print(f\"{'='*50}\")\n",
    "    \n",
    "    try:\n",
    "        # Run network inference\n",
    "        network = run_grnboost_analysis(\n",
    "            morphogen_data=morphogen_data,\n",
    "            aucell_data=aucell_df,\n",
    "            cell_line=cell_line\n",
    "        )\n",
    "        \n",
    "        network_results[cell_line] = network\n",
    "        print(f\"✅ Completed network inference for {cell_line}\")\n",
    "        print(f\"   Network edges: {len(network)}\")\n",
    "        \n",
    "    except Exception as e:\n",
    "        print(f\"❌ Error in {cell_line}: {str(e)}\")\n",
    "        continue\n",
    "\n",
    "print(f\"\\n🎉 Network inference completed for {len(network_results)} cell lines\")"
   ]
  },
  {
   "cell_type": "markdown",
   "id": "d5f09d6c",
   "metadata": {},
   "source": [
    "## 3.3 Analyze Networks\n",
    "\n",
    "Analyze the inferred networks to identify significant morphogen-regulon interactions."
   ]
  },
  {
   "cell_type": "code",
   "execution_count": null,
   "id": "f7448da3",
   "metadata": {},
   "outputs": [],
   "source": [
    "# Analyze networks and identify significant interactions\n",
    "significant_interactions = {}\n",
    "\n",
    "for cell_line, network in network_results.items():\n",
    "    print(f\"\\nAnalyzing network for {cell_line}...\")\n",
    "    \n",
    "    # Analyze network\n",
    "    interactions = analyze_networks(network, cell_line=cell_line)\n",
    "    significant_interactions[cell_line] = interactions\n",
    "    \n",
    "    print(f\"  Significant interactions: {len(interactions)}\")\n",
    "    if len(interactions) > 0:\n",
    "        print(f\"  Top interactions:\")\n",
    "        top_interactions = interactions.head()\n",
    "        for _, row in top_interactions.iterrows():\n",
    "            print(f\"    {row['TF']} -> {row['target']} (importance: {row['importance']:.3f})\")\n",
    "\n",
    "# Combine results across cell lines\n",
    "print(f\"\\n{'='*50}\")\n",
    "print(\"Summary across all cell lines:\")\n",
    "print(f\"{'='*50}\")\n",
    "\n",
    "total_interactions = 0\n",
    "for cell_line, interactions in significant_interactions.items():\n",
    "    print(f\"{cell_line}: {len(interactions)} interactions\")\n",
    "    total_interactions += len(interactions)\n",
    "\n",
    "print(f\"\\nTotal significant interactions: {total_interactions}\")"
   ]
  },
  {
   "cell_type": "markdown",
   "id": "b6ef35f0",
   "metadata": {},
   "source": [
    "## 3.4 Save Results\n",
    "\n",
    "Save the network analysis results for use in Stage 4."
   ]
  },
  {
   "cell_type": "code",
   "execution_count": null,
   "id": "94fdc619",
   "metadata": {},
   "outputs": [],
   "source": [
    "# Create output directory\n",
    "output_dir = \"networks\"\n",
    "os.makedirs(output_dir, exist_ok=True)\n",
    "\n",
    "# Save individual cell line results\n",
    "for cell_line, interactions in significant_interactions.items():\n",
    "    output_file = f\"{output_dir}/morphogen_regulon_network_{cell_line}.csv\"\n",
    "    interactions.to_csv(output_file, index=False)\n",
    "    print(f\"Saved {cell_line} network: {output_file}\")\n",
    "\n",
    "# Save combined results\n",
    "all_interactions = []\n",
    "for cell_line, interactions in significant_interactions.items():\n",
    "    interactions_copy = interactions.copy()\n",
    "    interactions_copy['cell_line'] = cell_line\n",
    "    all_interactions.append(interactions_copy)\n",
    "\n",
    "if all_interactions:\n",
    "    combined_interactions = pd.concat(all_interactions, ignore_index=True)\n",
    "    combined_file = f\"{output_dir}/morphogen_regulon_networks_combined.csv\"\n",
    "    combined_interactions.to_csv(combined_file, index=False)\n",
    "    print(f\"Saved combined networks: {combined_file}\")\n",
    "\n",
    "print(\"\\n✅ Stage 3 complete!\")\n",
    "print(\"Next step: Stage 4 - Final correlation analysis\")"
   ]
  }
 ],
 "metadata": {
  "language_info": {
   "name": "python"
  }
 },
 "nbformat": 4,
 "nbformat_minor": 5
}

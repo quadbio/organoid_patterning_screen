{
 "cells": [
  {
   "cell_type": "markdown",
   "id": "ac42c8db",
   "metadata": {},
   "source": [
    "# Generate Region-Seed Combinations for pySCENIC Multi-Array Jobs\n",
    "\n",
    "This notebook generates the region-seed combinations file used by the SLURM array job submission.\n",
    "\n",
    "Based on the original `generate_region_seed_combos.ipynb` from pyscenic_celline."
   ]
  },
  {
   "cell_type": "code",
   "execution_count": null,
   "id": "93e152da",
   "metadata": {},
   "outputs": [],
   "source": [
    "import random\n",
    "\n",
    "# Set seed for reproducibility (same as original)\n",
    "random.seed(42)\n",
    "\n",
    "# Generate 100 different unique random integers between 0 and 1000\n",
    "random_integers = random.sample(range(1001), 100)\n",
    "print(f\"Generated {len(random_integers)} random integers\")\n",
    "print(f\"First 10: {random_integers[:10]}\")\n",
    "\n",
    "# Use the same seeds as in the original analysis\n",
    "used_integers = [37, 4, 18, 9, 56, 63, 98, 88, 75, 42]\n",
    "print(f\"\\nUsed integers from original analysis: {used_integers}\")\n",
    "\n",
    "# Check which used integers are in our random list\n",
    "overlap = [x for x in used_integers if x in random_integers]\n",
    "print(f\"Overlap with original: {overlap}\")\n",
    "\n",
    "# Use top 20 for our analysis\n",
    "top_20_integers = sorted(random_integers[:20])\n",
    "print(f\"\\nTop 20 integers for this analysis: {top_20_integers}\")"
   ]
  },
  {
   "cell_type": "code",
   "execution_count": null,
   "id": "c991fd24",
   "metadata": {},
   "outputs": [],
   "source": [
    "# Define the analysis regions and seeds\n",
    "regions = [\"cell_line\"]  # Individual cell line analysis\n",
    "seeds = top_20_integers\n",
    "\n",
    "# Generate combinations file\n",
    "combinations = []\n",
    "\n",
    "# Add combinations for each region and seed\n",
    "for region in regions:\n",
    "    for seed in seeds:\n",
    "        combinations.append(f\"{region} {seed}\")\n",
    "\n",
    "print(f\"Generated {len(combinations)} combinations\")\n",
    "\n",
    "# Save to file\n",
    "with open(\"region_seed_combos.txt\", \"w\") as f:\n",
    "    for combo in combinations:\n",
    "        f.write(combo + \"\\n\")\n",
    "\n",
    "print(\"✅ Saved combinations to region_seed_combos.txt\")\n",
    "\n",
    "# Display first few combinations\n",
    "print(\"\\nFirst 10 combinations:\")\n",
    "for i, combo in enumerate(combinations[:10]):\n",
    "    print(f\"{i+1}: {combo}\")\n",
    "\n",
    "print(f\"\\nTotal combinations for SLURM array: {len(combinations)}\")\n",
    "print(\"Each combination will run pySCENIC for all 4 cell lines (H1, H9, WIBJ2, WTC)\")"
   ]
  }
 ],
 "metadata": {
  "language_info": {
   "name": "python"
  }
 },
 "nbformat": 4,
 "nbformat_minor": 5
}

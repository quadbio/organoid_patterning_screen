{
 "cells": [
  {
   "cell_type": "markdown",
   "id": "f4ada3fe",
   "metadata": {},
   "source": [
    "# Stage 4: Final Correlation Analysis\n",
    "\n",
    "This notebook combines morphogen-regulon networks and calculates final correlations for publication.\n",
    "\n",
    "**Input**: Morphogen-regulon networks from Stage 3\n",
    "**Output**: Final correlation matrices, TF-target-morphogen relationships\n",
    "**Method**: Correlation analysis, statistical testing, visualization"
   ]
  },
  {
   "cell_type": "code",
   "execution_count": null,
   "id": "d61e28ea",
   "metadata": {},
   "outputs": [],
   "source": [
    "import pandas as pd\n",
    "import numpy as np\n",
    "import matplotlib.pyplot as plt\n",
    "import seaborn as sns\n",
    "from scipy import stats\n",
    "import os\n",
    "import warnings\n",
    "warnings.filterwarnings('ignore')\n",
    "\n",
    "# Import correlation analysis utilities\n",
    "import sys\n",
    "sys.path.append('../src')\n",
    "from correlation_analysis import (\n",
    "    calculate_correlations,\n",
    "    create_correlation_matrix,\n",
    "    plot_correlation_heatmap,\n",
    "    plot_correlation_distribution,\n",
    "    plot_network_graph,\n",
    "    calculate_summary_statistics,\n",
    "    save_correlation_results\n",
    ")\n",
    "\n",
    "# Set up plotting\n",
    "plt.style.use('default')\n",
    "sns.set_palette(\"husl\")\n",
    "\n",
    "print(\"📈 Stage 4: Final Correlation Analysis\")\n",
    "print(\"Combining morphogen-regulon networks for publication\")"
   ]
  },
  {
   "cell_type": "markdown",
   "id": "65840993",
   "metadata": {},
   "source": [
    "## 4.1 Load Network Data\n",
    "\n",
    "Load the morphogen-regulon networks from Stage 3."
   ]
  },
  {
   "cell_type": "code",
   "execution_count": null,
   "id": "c57779fb",
   "metadata": {},
   "outputs": [],
   "source": [
    "# Load combined network results\n",
    "network_file = \"../03_morphogen_networks/networks/morphogen_regulon_networks_combined.csv\"\n",
    "\n",
    "if os.path.exists(network_file):\n",
    "    networks = pd.read_csv(network_file)\n",
    "    print(f\"Loaded combined networks: {networks.shape[0]} interactions\")\n",
    "    print(f\"Columns: {list(networks.columns)}\")\n",
    "    print(f\"\\nSample data:\")\n",
    "    print(networks.head())\n",
    "else:\n",
    "    print(f\"❌ Network file not found: {network_file}\")\n",
    "    print(\"Please run Stage 3 first\")\n",
    "    networks = None"
   ]
  },
  {
   "cell_type": "code",
   "execution_count": null,
   "id": "2eed8f62",
   "metadata": {},
   "outputs": [],
   "source": [
    "# Load individual cell line networks for comparison\n",
    "individual_networks = {}\n",
    "\n",
    "for cell_line in ['H1', 'WTC', 'H9', 'WIBJ2']:\n",
    "    network_file = f\"../03_morphogen_networks/networks/morphogen_regulon_network_{cell_line}.csv\"\n",
    "    \n",
    "    if os.path.exists(network_file):\n",
    "        df = pd.read_csv(network_file)\n",
    "        individual_networks[cell_line] = df\n",
    "        print(f\"Loaded {cell_line}: {df.shape[0]} interactions\")\n",
    "    else:\n",
    "        print(f\"❌ {cell_line} network not found\")\n",
    "\n",
    "print(f\"\\nLoaded networks for {len(individual_networks)} cell lines\")"
   ]
  },
  {
   "cell_type": "markdown",
   "id": "c83fcfb5",
   "metadata": {},
   "source": [
    "## 4.2 Calculate Correlations\n",
    "\n",
    "Calculate correlations between morphogens and regulon activities using the correlation analysis utilities."
   ]
  },
  {
   "cell_type": "code",
   "execution_count": null,
   "id": "e1fef32d",
   "metadata": {},
   "outputs": [],
   "source": [
    "# Calculate correlations for combined data\n",
    "if networks is not None:\n",
    "    print(\"Calculating correlations from combined networks...\")\n",
    "    correlations_combined = calculate_correlations(networks)\n",
    "    print(f\"Significant correlations: {len(correlations_combined)}\")\n",
    "    \n",
    "    # Show top correlations\n",
    "    top_corr = correlations_combined.nlargest(10, 'correlation')\n",
    "    print(\"\n",
    "Top 10 morphogen-regulon correlations:\")\n",
    "    for _, row in top_corr.iterrows():\n",
    "        print(f\"  {row['morphogen']} -> {row['regulon']}: r={row['correlation']:.3f} ({row['cell_line']})\")\n",
    "else:\n",
    "    correlations_combined = None"
   ]
  },
  {
   "cell_type": "code",
   "execution_count": null,
   "id": "fcc252e2",
   "metadata": {},
   "outputs": [],
   "source": [
    "# Calculate correlations for individual cell lines\n",
    "correlations_individual = {}\n",
    "\n",
    "for cell_line, network_df in individual_networks.items():\n",
    "    print(f\"\\\\nCalculating correlations for {cell_line}...\")\n",
    "    corr_df = calculate_correlations(network_df)\n",
    "    corr_df['cell_line'] = cell_line\n",
    "    correlations_individual[cell_line] = corr_df\n",
    "    \n",
    "    print(f\"  Significant correlations: {len(corr_df)}\")\n",
    "    \n",
    "    # Show top correlations\n",
    "    if len(corr_df) > 0:\n",
    "        top_corr = corr_df.nlargest(5, 'correlation')\n",
    "        print(f\"  Top correlations:\")\n",
    "        for _, row in top_corr.iterrows():\n",
    "            print(f\"    {row['morphogen']} -> {row['regulon']}: r={row['correlation']:.3f}\")"
   ]
  },
  {
   "cell_type": "markdown",
   "id": "3dd4adf6",
   "metadata": {},
   "source": [
    "## 4.3 Create Correlation Matrix\n",
    "\n",
    "Create a comprehensive correlation matrix for visualization and analysis using the utility functions."
   ]
  },
  {
   "cell_type": "code",
   "execution_count": null,
   "id": "cca9b2bc",
   "metadata": {},
   "outputs": [],
   "source": [
    "# Create correlation matrices\n",
    "if correlations_combined is not None:\n",
    "    print(\"Creating correlation matrix...\")\n",
    "    corr_matrix = create_correlation_matrix(correlations_combined)\n",
    "    print(f\"Matrix shape: {corr_matrix.shape}\")\n",
    "    print(f\"Morphogens: {corr_matrix.shape[0]}\")\n",
    "    print(f\"Regulons: {corr_matrix.shape[1]}\")\n",
    "    \n",
    "    # Show matrix info\n",
    "    non_zero = (corr_matrix != 0).sum().sum()\n",
    "    total = corr_matrix.shape[0] * corr_matrix.shape[1]\n",
    "    print(f\"Non-zero correlations: {non_zero}/{total} ({100*non_zero/total:.1f}%)\")\n",
    "else:\n",
    "    corr_matrix = None"
   ]
  },
  {
   "cell_type": "markdown",
   "id": "fa70500a",
   "metadata": {},
   "source": [
    "## 4.4 Visualizations\n",
    "\n",
    "Create publication-quality visualizations of the results."
   ]
  },
  {
   "cell_type": "code",
   "execution_count": null,
   "id": "713f0de8",
   "metadata": {},
   "outputs": [],
   "source": [
    "# Create output directory for plots\n",
    "os.makedirs(\"plots\", exist_ok=True)\n",
    "\n",
    "# Plot 1: Heatmap of correlation matrix\n",
    "if corr_matrix is not None:\n",
    "    fig = plot_correlation_heatmap(\n",
    "        corr_matrix, \n",
    "        top_n=20, \n",
    "        figsize=(12, 8), \n",
    "        output_path='plots/correlation_heatmap.png'\n",
    "    )\n",
    "    plt.show()\n",
    "    print(\"✅ Saved correlation heatmap\")"
   ]
  },
  {
   "cell_type": "code",
   "execution_count": null,
   "id": "20222cd2",
   "metadata": {},
   "outputs": [],
   "source": [
    "# Plot 2: Distribution of correlations by cell line\n",
    "if correlations_combined is not None:\n",
    "    fig = plot_correlation_distribution(\n",
    "        correlations_combined, \n",
    "        figsize=(10, 6), \n",
    "        output_path='plots/correlation_distribution.png'\n",
    "    )\n",
    "    plt.show()\n",
    "    print(\"✅ Saved correlation distribution plot\")"
   ]
  },
  {
   "cell_type": "code",
   "execution_count": null,
   "id": "4b25fc13",
   "metadata": {},
   "outputs": [],
   "source": [
    "# Plot 3: Network graph of top interactions\n",
    "if correlations_combined is not None:\n",
    "    fig = plot_network_graph(\n",
    "        correlations_combined,\n",
    "        top_n=50,\n",
    "        top_edges=20,\n",
    "        figsize=(12, 10),\n",
    "        output_path='plots/network_graph.png'\n",
    "    )\n",
    "    plt.show()\n",
    "    print(\"✅ Saved network graph\")"
   ]
  },
  {
   "cell_type": "markdown",
   "id": "3b75adc8",
   "metadata": {},
   "source": [
    "## 4.5 Save Final Results\n",
    "\n",
    "Save all results for publication and further analysis."
   ]
  },
  {
   "cell_type": "code",
   "execution_count": null,
   "id": "07932a3b",
   "metadata": {},
   "outputs": [],
   "source": [
    "# Calculate and save summary statistics\n",
    "summary_stats = calculate_summary_statistics(correlations_individual)\n",
    "\n",
    "# Save all results using the utility function\n",
    "save_correlation_results(\n",
    "    correlations_combined=correlations_combined,\n",
    "    correlations_individual=correlations_individual,\n",
    "    corr_matrix=corr_matrix,\n",
    "    summary_stats=summary_stats,\n",
    "    output_dir=\".\"\n",
    ")\n",
    "\n",
    "# Display summary\n",
    "print(\"\n",
    "📊 Final Summary:\")\n",
    "print(summary_stats.to_string(index=False))\n",
    "\n",
    "print(\"\n",
    "🎉 Stage 4 Complete!\")\n",
    "print(\"\n",
    "📁 Output files:\")\n",
    "print(\"  - final_correlations_combined.csv\")\n",
    "print(\"  - correlation_matrix.csv\")\n",
    "print(\"  - final_correlations_[cellline].csv\")\n",
    "print(\"  - summary_statistics.csv\")\n",
    "print(\"  - plots/correlation_heatmap.png\")\n",
    "print(\"  - plots/correlation_distribution.png\")\n",
    "print(\"  - plots/network_graph.png\")\n",
    "\n",
    "print(\"\n",
    "🚀 Pipeline complete! Ready for publication.\")"
   ]
  }
 ],
 "metadata": {
  "language_info": {
   "name": "python"
  }
 },
 "nbformat": 4,
 "nbformat_minor": 5
}
